{
 "cells": [
  {
   "cell_type": "markdown",
   "id": "170b3303",
   "metadata": {
    "id": "170b3303"
   },
   "source": [
    "# visualizing synthetic landscape + SGD"
   ]
  },
  {
   "cell_type": "markdown",
   "id": "9ad535e1",
   "metadata": {
    "id": "9ad535e1"
   },
   "source": [
    "## imports"
   ]
  },
  {
   "cell_type": "markdown",
   "id": "fF6VZhYGCl8p",
   "metadata": {
    "id": "fF6VZhYGCl8p"
   },
   "source": [
    "### mount drive\n"
   ]
  },
  {
   "cell_type": "code",
   "execution_count": 1,
   "id": "O594uQc7CoY9",
   "metadata": {
    "colab": {
     "base_uri": "https://localhost:8080/"
    },
    "executionInfo": {
     "elapsed": 16488,
     "status": "ok",
     "timestamp": 1750873506114,
     "user": {
      "displayName": "Julian Gold",
      "userId": "01597584131251118338"
     },
     "user_tz": 240
    },
    "id": "O594uQc7CoY9",
    "outputId": "bb52d1e6-7d65-4e8a-9745-158bdf5baf0a"
   },
   "outputs": [],
   "source": [
    "COLAB = False\n",
    "if COLAB == True:\n",
    "    drive.mount('/content/drive')"
   ]
  },
  {
   "cell_type": "markdown",
   "id": "3WWTPgleC_7o",
   "metadata": {
    "id": "3WWTPgleC_7o"
   },
   "source": [
    "### pip installs"
   ]
  },
  {
   "cell_type": "code",
   "execution_count": 2,
   "id": "mitYYLP8CsST",
   "metadata": {
    "colab": {
     "base_uri": "https://localhost:8080/"
    },
    "executionInfo": {
     "elapsed": 25158,
     "status": "ok",
     "timestamp": 1750873531278,
     "user": {
      "displayName": "Julian Gold",
      "userId": "01597584131251118338"
     },
     "user_tz": 240
    },
    "id": "mitYYLP8CsST",
    "outputId": "3e85d6bb-117f-4040-b202-b8f80b3dab2e"
   },
   "outputs": [],
   "source": [
    "if COLAB==True:\n",
    "    !pip install scanpy moscot ott-jax diffrax napari anndata -q\n",
    "    !pip install \"jax[cuda]\" -f https://storage.googleapis.com/jax-releases/jax_cuda_releases.html -q"
   ]
  },
  {
   "cell_type": "markdown",
   "id": "MLTkU0CIDB3i",
   "metadata": {
    "id": "MLTkU0CIDB3i"
   },
   "source": [
    "### imports"
   ]
  },
  {
   "cell_type": "code",
   "execution_count": 3,
   "id": "0a92bb22",
   "metadata": {
    "executionInfo": {
     "elapsed": 37377,
     "status": "ok",
     "timestamp": 1750873568661,
     "user": {
      "displayName": "Julian Gold",
      "userId": "01597584131251118338"
     },
     "user_tz": 240
    },
    "id": "0a92bb22"
   },
   "outputs": [],
   "source": [
    "import math, napari, numpy as np\n",
    "import pandas as pd\n",
    "\n",
    "from scipy.optimize import minimize\n",
    "from scipy.ndimage import minimum_filter\n",
    "\n",
    "import importlib\n",
    "\n",
    "import matplotlib.pyplot as plt\n",
    "import seaborn as sns\n",
    "from PIL import Image\n",
    "\n",
    "import sys, pathlib\n",
    "\n",
    "if COLAB == True:\n",
    "    fh_hmot = \"/content/drive/Othercomputers/numac/GitHub/HM-OT\" # filehandle for HM-OT\n",
    "    project_root = pathlib.Path(fh_hmot)\n",
    "    sys.path.insert(0, fh_hmot)\n",
    "    sys.path.insert(0, str(project_root / \"src\"))\n",
    "else: \n",
    "    fh_hmot = '../../'\n",
    "    project_root = pathlib.Path(fh_hmot)\n",
    "    sys.path.insert(0, fh_hmot)\n",
    "\n",
    "from src.utils.waddington import viewer, visual, minima, simulation, differentiation, metrics\n",
    "from src.utils.waddington import seed_everything\n",
    "from src.platting import color_utils, palette_utils, string_utils, spatial_scatter, diffmap"
   ]
  },
  {
   "cell_type": "markdown",
   "id": "641f73bb",
   "metadata": {
    "id": "641f73bb"
   },
   "source": [
    "## set seed"
   ]
  },
  {
   "cell_type": "code",
   "execution_count": 4,
   "id": "8dbe6504",
   "metadata": {
    "colab": {
     "base_uri": "https://localhost:8080/"
    },
    "executionInfo": {
     "elapsed": 2023,
     "status": "ok",
     "timestamp": 1750873570690,
     "user": {
      "displayName": "Julian Gold",
      "userId": "01597584131251118338"
     },
     "user_tz": 240
    },
    "id": "8dbe6504",
    "outputId": "b43bf8df-3c16-40a8-e38a-a160357d8c4f"
   },
   "outputs": [
    {
     "name": "stdout",
     "output_type": "stream",
     "text": [
      "🌱 Setting global seed to 42\n",
      "  ⚠ PyTorch not available\n",
      "  ⚠ JAX not available\n",
      "🌱 All available RNGs seeded.\n"
     ]
    }
   ],
   "source": [
    "# Set global seed for reproducibility\n",
    "GLOBAL_SEED = 42\n",
    "# np.random.seed(GLOBAL_SEED)\n",
    "seed = seed_everything(GLOBAL_SEED)"
   ]
  },
  {
   "cell_type": "code",
   "execution_count": 5,
   "id": "9813ef1d",
   "metadata": {},
   "outputs": [],
   "source": [
    "str_to_color_dict = {\n",
    "    'U': (1.0, 1.0, 0.0, 1.0),\n",
    "    'A240': (0.10980392156862745, 0.9019607843137255, 1.0, 1.0),\n",
    "    'A0': (1.0, 0.20392156862745098, 1.0, 1.0),\n",
    "    'A120': (1.0, 0.2901960784313726, 0.27450980392156865, 1.0),\n",
    "    'B210': (0.0, 0.5372549019607843, 0.2549019607843137, 1.0),\n",
    "    'B150': (0.0, 0.43529411764705883, 0.6509803921568628, 1.0),\n",
    "    'B330': (0.6392156862745098, 0.0, 0.34901960784313724, 1.0),\n",
    "    'B30': (1.0, 0.8588235294117647, 0.8980392156862745, 1.0),\n",
    "    'B270': (0.47843137254901963, 0.28627450980392155, 0.0, 1.0),\n",
    "    'B90': (0.0, 0.0, 0.6509803921568628, 1.0),\n",
    "    'C210': (0.38823529411764707, 1.0, 0.6745098039215687, 1.0),\n",
    "    'C330': (0.7176470588235294, 0.592156862745098, 0.3843137254901961, 1.0),\n",
    "    'C30': (0.0, 0.30196078431372547, 0.2627450980392157, 1.0),\n",
    "    'C150': (0.5607843137254902, 0.6901960784313725, 1.0, 1.0),\n",
    "    'C270': (0.6, 0.49019607843137253, 0.5294117647058824, 1.0),\n",
    "    'C90': (0.35294117647058826, 0.0, 0.027450980392156862, 1.0)\n",
    "}"
   ]
  },
  {
   "cell_type": "markdown",
   "id": "46fef1db",
   "metadata": {
    "id": "46fef1db"
   },
   "source": [
    "## set parameters (`TIMEPOINTS`, `ASSIGNMENT_RADIUS`, `LANGEVIN` parameters)"
   ]
  },
  {
   "cell_type": "code",
   "execution_count": 6,
   "id": "37710bcb",
   "metadata": {
    "colab": {
     "base_uri": "https://localhost:8080/"
    },
    "executionInfo": {
     "elapsed": 6,
     "status": "ok",
     "timestamp": 1750873570698,
     "user": {
      "displayName": "Julian Gold",
      "userId": "01597584131251118338"
     },
     "user_tz": 240
    },
    "id": "37710bcb",
    "outputId": "1292dfda-7b47-4f76-e3c8-460c23334523"
   },
   "outputs": [
    {
     "name": "stdout",
     "output_type": "stream",
     "text": [
      "Finding local minima …\n",
      "→ 15 minima found\n",
      "Building surface …\n",
      "Running Langevin simulation …\n",
      "Constructing differentiation map …\n",
      "Play ▶︎ to animate.\n",
      "CPU times: user 26.2 s, sys: 1.32 s, total: 27.6 s\n",
      "Wall time: 29.1 s\n"
     ]
    }
   ],
   "source": [
    "%%time\n",
    "# timepoint indices of snapshots of Langevin dynamics\n",
    "TIMEPOINTS = [19, 89, 2500] # snapshots taken at these timepoints\n",
    "\n",
    "# assignment radius (determines cell type assignments):\n",
    "ASSIGNMENT_RADIUS = 1.6\n",
    "\n",
    "# Langevin dynamics parameteters\n",
    "LANGEVIN_n_particles = 100 # number of partciles\n",
    "LANGEVIN_N_timesteps = 4000 # number of time steps\n",
    "LANGEVIN_dt = 0.2\n",
    "LANGEVIN_D = 0.014\n",
    "\n",
    "\n",
    "SHOW_DYN = True # Set to True to visualize dynamics with napari\n",
    "# ------------------------------------------------------------------\n",
    "if __name__ == \"__main__\" and SHOW_DYN:\n",
    "    try:\n",
    "        viewer.launch_viewer_with_differentiation(\n",
    "            timepoints=TIMEPOINTS,\n",
    "            langevin_n=LANGEVIN_n_particles,\n",
    "            langevin_N=LANGEVIN_N_timesteps,\n",
    "            langevin_dt=LANGEVIN_dt,\n",
    "            langevin_D=LANGEVIN_D,\n",
    "            assignment_radius=ASSIGNMENT_RADIUS,\n",
    "            str_to_color_dict=str_to_color_dict,\n",
    "        )\n",
    "        napari.run()\n",
    "    except Exception as e:\n",
    "        print(\"Napari error:\", e)\n",
    "        print(\"Install with: pip install 'napari[all]' scipy\")\n",
    "elif SHOW_DYN==False:\n",
    "    img = Image.open(fh_hmot + '/experiments/2.png')\n",
    "    img"
   ]
  }
 ],
 "metadata": {
  "accelerator": "GPU",
  "colab": {
   "gpuType": "T4",
   "machine_shape": "hm",
   "provenance": []
  },
  "kernelspec": {
   "display_name": "napari-env",
   "language": "python",
   "name": "python3"
  },
  "language_info": {
   "codemirror_mode": {
    "name": "ipython",
    "version": 3
   },
   "file_extension": ".py",
   "mimetype": "text/x-python",
   "name": "python",
   "nbconvert_exporter": "python",
   "pygments_lexer": "ipython3",
   "version": "3.10.18"
  }
 },
 "nbformat": 4,
 "nbformat_minor": 5
}
